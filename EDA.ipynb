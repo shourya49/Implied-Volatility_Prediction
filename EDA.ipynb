{
 "cells": [
  {
   "cell_type": "code",
   "execution_count": 1,
   "id": "7cbdc7d8-1a79-404b-8dbf-cd99374b6b99",
   "metadata": {},
   "outputs": [],
   "source": [
    "import numpy as np\n",
    "import pandas as pd\n",
    "import seaborn as sns\n",
    "import matplotlib.pyplot as plt\n",
    "from scipy.stats import skew\n",
    "import warnings\n",
    "warnings.filterwarnings('ignore')"
   ]
  },
  {
   "cell_type": "code",
   "execution_count": 13,
   "id": "4bdeca55-4c3b-4cec-9e2b-a1d11d47c9ef",
   "metadata": {},
   "outputs": [],
   "source": [
    "train = pd.read_parquet('train_data.parquet')\n",
    "train.head(5)\n",
    "train.drop(columns = ['timestamp', 'expiry'], inplace = True)"
   ]
  },
  {
   "cell_type": "code",
   "execution_count": 14,
   "id": "90a3e695-9daf-4651-93ef-55d5d81cac6f",
   "metadata": {},
   "outputs": [
    {
     "data": {
      "text/html": [
       "<div>\n",
       "<style scoped>\n",
       "    .dataframe tbody tr th:only-of-type {\n",
       "        vertical-align: middle;\n",
       "    }\n",
       "\n",
       "    .dataframe tbody tr th {\n",
       "        vertical-align: top;\n",
       "    }\n",
       "\n",
       "    .dataframe thead th {\n",
       "        text-align: right;\n",
       "    }\n",
       "</style>\n",
       "<table border=\"1\" class=\"dataframe\">\n",
       "  <thead>\n",
       "    <tr style=\"text-align: right;\">\n",
       "      <th></th>\n",
       "      <th>underlying</th>\n",
       "      <th>call_iv_23500</th>\n",
       "      <th>call_iv_23600</th>\n",
       "      <th>call_iv_23700</th>\n",
       "      <th>call_iv_23800</th>\n",
       "      <th>call_iv_23900</th>\n",
       "      <th>call_iv_24000</th>\n",
       "      <th>call_iv_24100</th>\n",
       "      <th>call_iv_24200</th>\n",
       "      <th>call_iv_24300</th>\n",
       "      <th>...</th>\n",
       "      <th>X32</th>\n",
       "      <th>X33</th>\n",
       "      <th>X34</th>\n",
       "      <th>X35</th>\n",
       "      <th>X36</th>\n",
       "      <th>X37</th>\n",
       "      <th>X38</th>\n",
       "      <th>X39</th>\n",
       "      <th>X40</th>\n",
       "      <th>X41</th>\n",
       "    </tr>\n",
       "  </thead>\n",
       "  <tbody>\n",
       "    <tr>\n",
       "      <th>0</th>\n",
       "      <td>24160.9</td>\n",
       "      <td>0.237872</td>\n",
       "      <td>0.213056</td>\n",
       "      <td>0.191247</td>\n",
       "      <td>0.173081</td>\n",
       "      <td>0.157550</td>\n",
       "      <td>0.146430</td>\n",
       "      <td>0.140084</td>\n",
       "      <td>0.139703</td>\n",
       "      <td>0.143353</td>\n",
       "      <td>...</td>\n",
       "      <td>0.013995</td>\n",
       "      <td>0.007922</td>\n",
       "      <td>-1.947502e+05</td>\n",
       "      <td>0.024715</td>\n",
       "      <td>0.530894</td>\n",
       "      <td>-0.002354</td>\n",
       "      <td>-3.224848e+05</td>\n",
       "      <td>-1.600795e+06</td>\n",
       "      <td>13063.446970</td>\n",
       "      <td>445511.363636</td>\n",
       "    </tr>\n",
       "    <tr>\n",
       "      <th>1</th>\n",
       "      <td>24188.1</td>\n",
       "      <td>0.236015</td>\n",
       "      <td>0.213177</td>\n",
       "      <td>0.189552</td>\n",
       "      <td>0.169672</td>\n",
       "      <td>0.153648</td>\n",
       "      <td>0.141522</td>\n",
       "      <td>0.134405</td>\n",
       "      <td>0.132546</td>\n",
       "      <td>0.135621</td>\n",
       "      <td>...</td>\n",
       "      <td>-0.004976</td>\n",
       "      <td>-0.009555</td>\n",
       "      <td>-1.481909e+06</td>\n",
       "      <td>-0.004020</td>\n",
       "      <td>-1.429919</td>\n",
       "      <td>-0.000843</td>\n",
       "      <td>1.658073e+06</td>\n",
       "      <td>-1.742468e+06</td>\n",
       "      <td>31364.628427</td>\n",
       "      <td>-46123.161765</td>\n",
       "    </tr>\n",
       "    <tr>\n",
       "      <th>2</th>\n",
       "      <td>24148.6</td>\n",
       "      <td>0.225757</td>\n",
       "      <td>0.199469</td>\n",
       "      <td>0.178547</td>\n",
       "      <td>0.156187</td>\n",
       "      <td>0.140276</td>\n",
       "      <td>0.130288</td>\n",
       "      <td>0.124253</td>\n",
       "      <td>0.124126</td>\n",
       "      <td>0.128211</td>\n",
       "      <td>...</td>\n",
       "      <td>-0.012869</td>\n",
       "      <td>-0.004012</td>\n",
       "      <td>-1.250688e+06</td>\n",
       "      <td>-0.035342</td>\n",
       "      <td>-0.523109</td>\n",
       "      <td>0.013778</td>\n",
       "      <td>-2.646675e+06</td>\n",
       "      <td>-5.051008e+07</td>\n",
       "      <td>-847564.971737</td>\n",
       "      <td>-225333.881579</td>\n",
       "    </tr>\n",
       "    <tr>\n",
       "      <th>3</th>\n",
       "      <td>24147.4</td>\n",
       "      <td>0.220805</td>\n",
       "      <td>0.195398</td>\n",
       "      <td>0.176247</td>\n",
       "      <td>0.155271</td>\n",
       "      <td>0.139753</td>\n",
       "      <td>0.129641</td>\n",
       "      <td>0.123994</td>\n",
       "      <td>0.123912</td>\n",
       "      <td>0.128196</td>\n",
       "      <td>...</td>\n",
       "      <td>-0.006014</td>\n",
       "      <td>0.004207</td>\n",
       "      <td>6.378700e+05</td>\n",
       "      <td>-0.045472</td>\n",
       "      <td>0.741664</td>\n",
       "      <td>0.002590</td>\n",
       "      <td>-1.607321e+06</td>\n",
       "      <td>4.170899e+05</td>\n",
       "      <td>333918.361928</td>\n",
       "      <td>-114960.453869</td>\n",
       "    </tr>\n",
       "    <tr>\n",
       "      <th>4</th>\n",
       "      <td>24155.9</td>\n",
       "      <td>0.220088</td>\n",
       "      <td>0.195815</td>\n",
       "      <td>0.177803</td>\n",
       "      <td>0.156409</td>\n",
       "      <td>0.141458</td>\n",
       "      <td>0.130448</td>\n",
       "      <td>0.124707</td>\n",
       "      <td>0.124395</td>\n",
       "      <td>0.128867</td>\n",
       "      <td>...</td>\n",
       "      <td>0.020878</td>\n",
       "      <td>-0.001747</td>\n",
       "      <td>9.592702e+04</td>\n",
       "      <td>0.044814</td>\n",
       "      <td>-0.015472</td>\n",
       "      <td>0.012185</td>\n",
       "      <td>6.820360e+05</td>\n",
       "      <td>4.081106e+06</td>\n",
       "      <td>3309.895833</td>\n",
       "      <td>183946.289063</td>\n",
       "    </tr>\n",
       "  </tbody>\n",
       "</table>\n",
       "<p>5 rows × 95 columns</p>\n",
       "</div>"
      ],
      "text/plain": [
       "   underlying  call_iv_23500  call_iv_23600  call_iv_23700  call_iv_23800  \\\n",
       "0     24160.9       0.237872       0.213056       0.191247       0.173081   \n",
       "1     24188.1       0.236015       0.213177       0.189552       0.169672   \n",
       "2     24148.6       0.225757       0.199469       0.178547       0.156187   \n",
       "3     24147.4       0.220805       0.195398       0.176247       0.155271   \n",
       "4     24155.9       0.220088       0.195815       0.177803       0.156409   \n",
       "\n",
       "   call_iv_23900  call_iv_24000  call_iv_24100  call_iv_24200  call_iv_24300  \\\n",
       "0       0.157550       0.146430       0.140084       0.139703       0.143353   \n",
       "1       0.153648       0.141522       0.134405       0.132546       0.135621   \n",
       "2       0.140276       0.130288       0.124253       0.124126       0.128211   \n",
       "3       0.139753       0.129641       0.123994       0.123912       0.128196   \n",
       "4       0.141458       0.130448       0.124707       0.124395       0.128867   \n",
       "\n",
       "   ...       X32       X33           X34       X35       X36       X37  \\\n",
       "0  ...  0.013995  0.007922 -1.947502e+05  0.024715  0.530894 -0.002354   \n",
       "1  ... -0.004976 -0.009555 -1.481909e+06 -0.004020 -1.429919 -0.000843   \n",
       "2  ... -0.012869 -0.004012 -1.250688e+06 -0.035342 -0.523109  0.013778   \n",
       "3  ... -0.006014  0.004207  6.378700e+05 -0.045472  0.741664  0.002590   \n",
       "4  ...  0.020878 -0.001747  9.592702e+04  0.044814 -0.015472  0.012185   \n",
       "\n",
       "            X38           X39            X40            X41  \n",
       "0 -3.224848e+05 -1.600795e+06   13063.446970  445511.363636  \n",
       "1  1.658073e+06 -1.742468e+06   31364.628427  -46123.161765  \n",
       "2 -2.646675e+06 -5.051008e+07 -847564.971737 -225333.881579  \n",
       "3 -1.607321e+06  4.170899e+05  333918.361928 -114960.453869  \n",
       "4  6.820360e+05  4.081106e+06    3309.895833  183946.289063  \n",
       "\n",
       "[5 rows x 95 columns]"
      ]
     },
     "execution_count": 14,
     "metadata": {},
     "output_type": "execute_result"
    }
   ],
   "source": [
    "train.head(5)"
   ]
  },
  {
   "cell_type": "code",
   "execution_count": 15,
   "id": "aa1c9bf8-1fd6-4a12-ad1a-467b1d201baf",
   "metadata": {},
   "outputs": [
    {
     "data": {
      "text/plain": [
       "<Axes: xlabel='underlying'>"
      ]
     },
     "execution_count": 15,
     "metadata": {},
     "output_type": "execute_result"
    },
    {
     "data": {
      "image/png": "[encoded data removed]",
      "text/plain": [
       "<Figure size 640x480 with 1 Axes>"
      ]
     },
     "metadata": {},
     "output_type": "display_data"
    }
   ],
   "source": [
    "sns.boxplot(x = train['underlying'])"
   ]
  },
  {
   "cell_type": "code",
   "execution_count": null,
   "id": "7b5925c6-d3fd-4157-9085-a67a411e2e02",
   "metadata": {},
   "outputs": [],
   "source": [
    " first_quartile = train['underlying'].quantile(.25)\n",
    " third_quartile = train['underlying'].quantile(.75)\n",
    " IQR = third_quartile- first_quartile\n",
    " new_boundary = third_quartile + 3 * IQR\n",
    " new_boundary"
   ]
  },
  {
   "cell_type": "code",
   "execution_count": null,
   "id": "be61cfcb-2950-451e-8b88-270d9e6a9d92",
   "metadata": {},
   "outputs": [],
   "source": [
    "sns.histplot(x = train['underlying'] , kde = True)"
   ]
  },
  {
   "cell_type": "code",
   "execution_count": 19,
   "id": "d99fbeee-253a-49cc-88db-8d94b8ccfafa",
   "metadata": {},
   "outputs": [],
   "source": [
    "from sklearn.preprocessing import StandardScaler"
   ]
  },
  {
   "cell_type": "code",
   "execution_count": 20,
   "id": "5d53a5a3-e5ad-467d-aa7c-e82a903e01cd",
   "metadata": {},
   "outputs": [],
   "source": [
    "scaler = StandardScaler()"
   ]
  },
  {
   "cell_type": "code",
   "execution_count": 21,
   "id": "b1b6f0b7-d922-4457-9be6-9305ed6a0053",
   "metadata": {},
   "outputs": [],
   "source": [
    "scaled_underlying = scaler.fit_transform(train[['underlying']])"
   ]
  },
  {
   "cell_type": "code",
   "execution_count": 22,
   "id": "fca07ba0-63fa-4783-b1be-c5b9a5567519",
   "metadata": {},
   "outputs": [
    {
     "data": {
      "text/plain": [
       "<Axes: ylabel='Count'>"
      ]
     },
     "execution_count": 22,
     "metadata": {},
     "output_type": "execute_result"
    },
    {
     "data": {
      "image/png": "[encoded data removed]",
      "text/plain": [
       "<Figure size 640x480 with 1 Axes>"
      ]
     },
     "metadata": {},
     "output_type": "display_data"
    }
   ],
   "source": [
    "sns.histplot(x = scaled_underlying.flatten() , kde = True)"
   ]
  },
  {
   "cell_type": "code",
   "execution_count": 23,
   "id": "392424da-5545-490d-9865-30c623a29e07",
   "metadata": {},
   "outputs": [
    {
     "name": "stdout",
     "output_type": "stream",
     "text": [
      "-1.2133651910468402\n",
      "-1.2133651910468086\n"
     ]
    }
   ],
   "source": [
    "from scipy.stats import skew\n",
    "\n",
    "print(skew(train['underlying']))  # original\n",
    "print(skew(scaled_underlying.flatten()))"
   ]
  },
  {
   "cell_type": "code",
   "execution_count": null,
   "id": "c5d9e07e-f0bf-42ff-a8c6-7e1bee6eb79a",
   "metadata": {
    "scrolled": true
   },
   "outputs": [],
   "source": [
    "sns.boxplot(x = scaled_underlying.flatten() )"
   ]
  },
  {
   "cell_type": "code",
   "execution_count": 16,
   "id": "0afee422-91ac-45a8-a0fb-a84c2a2357a2",
   "metadata": {},
   "outputs": [
    {
     "data": {
      "image/png": "[encoded data removed]",
      "text/plain": [
       "<Figure size 640x480 with 1 Axes>"
      ]
     },
     "metadata": {},
     "output_type": "display_data"
    }
   ],
   "source": [
    "import scipy.stats as stats\n",
    "import matplotlib.pyplot as plt\n",
    "\n",
    "stats.probplot(train['underlying'], dist=\"norm\", plot=plt)\n",
    "plt.title(\"Q-Q Plot\")\n",
    "plt.show()"
   ]
  },
  {
   "cell_type": "code",
   "execution_count": null,
   "id": "f6ba1f8e-0ae3-4e49-b932-0587c9c7bfb1",
   "metadata": {},
   "outputs": [],
   "source": [
    "from sklearn.preprocessing import PowerTransformer"
   ]
  },
  {
   "cell_type": "code",
   "execution_count": null,
   "id": "b98f6b4a-9e07-420b-b032-71afc3da2861",
   "metadata": {},
   "outputs": [],
   "source": [
    "pt = PowerTransformer(method='yeo-johnson')\n",
    "scaled_underlying = pt.fit_transform(train[['underlying']])"
   ]
  },
  {
   "cell_type": "code",
   "execution_count": null,
   "id": "f2d1a73f-8ccf-4744-836e-bd7b2f02add9",
   "metadata": {},
   "outputs": [],
   "source": [
    "skew(scaled_underlying.flatten())"
   ]
  },
  {
   "cell_type": "code",
   "execution_count": null,
   "id": "80d58ae5-440e-4dc5-b948-212d18c04916",
   "metadata": {
    "scrolled": true
   },
   "outputs": [],
   "source": [
    "sns.histplot(x = scaled_underlying.flatten() , kde = True)"
   ]
  },
  {
   "cell_type": "code",
   "execution_count": 24,
   "id": "c69581d4-b0c8-4958-8eeb-12c39ddd41a9",
   "metadata": {
    "scrolled": true
   },
   "outputs": [],
   "source": [
    "X_ = []\n",
    "for col in train.columns:\n",
    "    if 'X' in col:\n",
    "        X_.append(col)"
   ]
  },
  {
   "cell_type": "code",
   "execution_count": null,
   "id": "8fca3553-f962-40cc-8231-802c3c4db090",
   "metadata": {
    "scrolled": true
   },
   "outputs": [],
   "source": [
    "skewed = []\n",
    "heavily_skewed = []\n",
    "for i in X_:\n",
    "    if abs(skew(train[i])) > 0.5 and abs(skew(train[i])) < 5 :\n",
    "        skewed.append(i)\n",
    "    elif abs(skew(train[i])) > 5 :\n",
    "        heavily_skewed.append(i)\n",
    "        \n",
    "    \n",
    "print(skewed)\n",
    "print(heavily_skewed)\n",
    "\n",
    "        "
   ]
  },
  {
   "cell_type": "code",
   "execution_count": null,
   "id": "5024f4e6-66a8-4d35-8ba7-f0cf12193bd6",
   "metadata": {},
   "outputs": [],
   "source": [
    "for i in skewed:\n",
    "    pt = PowerTransformer(method='yeo-johnson')\n",
    "    scaled = pt.fit_transform(train[[i]])\n",
    "    skewness = skew(scaled.flatten())  # use a different variable name here\n",
    "    print(f\"{i}: Skewness after transformation = {skewness:.4f}\")"
   ]
  },
  {
   "cell_type": "code",
   "execution_count": null,
   "id": "458a3130-857a-4345-9041-2a69aa00ac4d",
   "metadata": {},
   "outputs": [],
   "source": [
    "for i in heavily_skewed:\n",
    "    pt = PowerTransformer(method='yeo-johnson')\n",
    "    scaled = pt.fit_transform(train[[i]])\n",
    "    skewness = skew(scaled.flatten())  # use a different variable name here\n",
    "    print(f\"{i}: Skewness after transformation = {skewness:.4f}\")"
   ]
  },
  {
   "cell_type": "code",
   "execution_count": null,
   "id": "90d2469f-47c3-4bbc-a30a-25fdf7d2fa75",
   "metadata": {},
   "outputs": [],
   "source": [
    "from sklearn.preprocessing import RobustScaler\n",
    "\n",
    "# Initialize scaler\n",
    "robust_scaler = RobustScaler()"
   ]
  },
  {
   "cell_type": "code",
   "execution_count": null,
   "id": "ed78436c-9ee4-4f05-b024-22f6fad62e6c",
   "metadata": {},
   "outputs": [],
   "source": [
    "train[skewed] = robust_scaler.fit_transform(train[skewed])"
   ]
  },
  {
   "cell_type": "code",
   "execution_count": null,
   "id": "efda9478-137b-4b57-a0a9-732d57564135",
   "metadata": {},
   "outputs": [],
   "source": [
    "train[heavily_skewed] = robust_scaler.fit_transform(train[heavily_skewed])"
   ]
  },
  {
   "cell_type": "code",
   "execution_count": null,
   "id": "20ad767b-9e89-4bb0-9d73-ebc50663712d",
   "metadata": {},
   "outputs": [],
   "source": [
    "skewed = []\n",
    "heavily_skewed = []\n",
    "for i in X_:\n",
    "    if abs(skew(train[i])) > 0.5 and abs(skew(train[i])) < 5 :\n",
    "        skewed.append(i)\n",
    "    elif abs(skew(train[i])) > 5 :\n",
    "        heavily_skewed.append(i)\n",
    "        \n",
    "    \n",
    "print(len(skewed))\n",
    "len(heavily_skewed)"
   ]
  },
  {
   "cell_type": "code",
   "execution_count": null,
   "id": "cf1b6646-5d26-4acb-967b-f669cff914da",
   "metadata": {},
   "outputs": [],
   "source": [
    "for i in heavily_skewed:\n",
    "    pt = PowerTransformer(method='yeo-johnson')\n",
    "    scaled = pt.fit_transform(train[[i]])\n",
    "    skewness = skew(scaled.flatten())  # use a different variable name here\n",
    "    print(f\"{i}: Skewness after transformation = {skewness:.4f}\")"
   ]
  },
  {
   "cell_type": "code",
   "execution_count": null,
   "id": "90eb95d4-86f2-4d64-af6f-238da3a5169b",
   "metadata": {},
   "outputs": [],
   "source": [
    "for i in skewed:\n",
    "    pt = PowerTransformer(method='yeo-johnson')\n",
    "    scaled = pt.fit_transform(train[[i]])\n",
    "    skewness = skew(scaled.flatten())  # use a different variable name here\n",
    "    print(f\"{i}: Skewness after transformation = {skewness:.4f}\")"
   ]
  },
  {
   "cell_type": "code",
   "execution_count": null,
   "id": "35606ce1-7bf7-4215-8b2a-f7613f46633b",
   "metadata": {},
   "outputs": [],
   "source": [
    "stats.probplot(train['X17'], dist=\"norm\", plot=plt)"
   ]
  },
  {
   "cell_type": "code",
   "execution_count": null,
   "id": "90587c71-9ab7-4028-9740-d67418c3a534",
   "metadata": {},
   "outputs": [],
   "source": [
    "sns.histplot(train['X17'], kde=True)\n",
    "plt.show()\n",
    "\n",
    "sns.boxplot(x=train['X17'])\n",
    "plt.show()"
   ]
  },
  {
   "cell_type": "code",
   "execution_count": null,
   "id": "890f9632-7e61-44a6-b80f-b08b81820e57",
   "metadata": {},
   "outputs": [],
   "source": [
    "df = train[X_]"
   ]
  },
  {
   "cell_type": "code",
   "execution_count": null,
   "id": "884bb240-13b6-460f-b23b-60b298c6bf94",
   "metadata": {},
   "outputs": [],
   "source": [
    "corr_matrix = df.corr()"
   ]
  },
  {
   "cell_type": "code",
   "execution_count": null,
   "id": "07392af9-493e-4af5-a601-e920395c65cf",
   "metadata": {},
   "outputs": [],
   "source": [
    "plt.figure(figsize=(12, 10))\n",
    "\n",
    "# 3. Plot heatmap\n",
    "sns.heatmap(corr_matrix, \n",
    "            annot=True,         # show correlation values\n",
    "            fmt=\".2f\",          # format numbers to 2 decimals\n",
    "            cmap='coolwarm',    # color map\n",
    "            center=0,           # center the colormap at 0\n",
    "            square=True,        # make cells square\n",
    "            linewidths=0.5,     # line between cells\n",
    "            cbar_kws={\"shrink\": 0.8})  # color bar size\n",
    "\n",
    "plt.title('Correlation Matrix Heatmap')\n",
    "plt.tight_layout()\n",
    "plt.show()"
   ]
  },
  {
   "cell_type": "code",
   "execution_count": 35,
   "id": "923acae9-94cf-441b-be57-aaa94dd1cb4c",
   "metadata": {},
   "outputs": [],
   "source": [
    "call_train = pd.read_parquet('call_train')"
   ]
  },
  {
   "cell_type": "code",
   "execution_count": 37,
   "id": "8d4042e4-aa46-4f12-98c0-48015aaf43ab",
   "metadata": {},
   "outputs": [
    {
     "data": {
      "text/plain": [
       "(4636840, 45)"
      ]
     },
     "execution_count": 37,
     "metadata": {},
     "output_type": "execute_result"
    }
   ],
   "source": [
    "call_train.shape"
   ]
  },
  {
   "cell_type": "code",
   "execution_count": 27,
   "id": "151d5c93-cc1c-4d19-aff6-5201396bd1e5",
   "metadata": {},
   "outputs": [
    {
     "data": {
      "text/plain": [
       "np.float64(15603600000.0)"
      ]
     },
     "execution_count": 27,
     "metadata": {},
     "output_type": "execute_result"
    }
   ],
   "source": [
    "call_train['iv'].max()"
   ]
  },
  {
   "cell_type": "code",
   "execution_count": 28,
   "id": "9b37be5a-04dd-413c-af13-7b4446e9feb5",
   "metadata": {},
   "outputs": [
    {
     "data": {
      "text/plain": [
       "np.float64(-1435870000000.0)"
      ]
     },
     "execution_count": 28,
     "metadata": {},
     "output_type": "execute_result"
    }
   ],
   "source": [
    "call_train['iv'].min()"
   ]
  },
  {
   "cell_type": "code",
   "execution_count": 29,
   "id": "70f3f69e-3625-4386-9848-24f082402ebe",
   "metadata": {},
   "outputs": [
    {
     "data": {
      "text/plain": [
       "395955    -1.435870e+12\n",
       "395929    -1.435870e+12\n",
       "395903    -1.435870e+12\n",
       "395877    -1.435870e+12\n",
       "2336517   -4.993820e+06\n",
       "               ...     \n",
       "2245881    7.904570e+08\n",
       "395957     1.560360e+10\n",
       "395879     1.560360e+10\n",
       "395905     1.560360e+10\n",
       "395931     1.560360e+10\n",
       "Name: iv, Length: 4636840, dtype: float64"
      ]
     },
     "execution_count": 29,
     "metadata": {},
     "output_type": "execute_result"
    }
   ],
   "source": [
    "call_train['iv'].sort_values()"
   ]
  },
  {
   "cell_type": "code",
   "execution_count": 38,
   "id": "9ed4d458-e2ce-4156-9e22-b7f1274f45b1",
   "metadata": {},
   "outputs": [
    {
     "name": "stdout",
     "output_type": "stream",
     "text": [
      "Percentage of outliers in 'iv': 12.03%\n"
     ]
    }
   ],
   "source": [
    "col = 'iv'\n",
    "Q1 = call_train[col].quantile(0.25)\n",
    "Q3 = call_train[col].quantile(0.75)\n",
    "IQR = Q3 - Q1\n",
    "\n",
    "lower_bound = Q1 - 1.5 * IQR\n",
    "upper_bound = Q3 + 1.5 * IQR\n",
    "\n",
    "# Boolean mask for outliers\n",
    "outliers_mask = (call_train[col] < lower_bound) | (call_train[col] > upper_bound)\n",
    "\n",
    "\n",
    "\n",
    "\n",
    "# Calculate percentage\n",
    "percent_outliers = outliers_mask.mean() * 100\n",
    "\n",
    "print(f\"Percentage of outliers in '{col}': {percent_outliers:.2f}%\")"
   ]
  },
  {
   "cell_type": "code",
   "execution_count": 39,
   "id": "88d6fd89-462a-4205-8399-e6384eee13b7",
   "metadata": {},
   "outputs": [
    {
     "name": "stdout",
     "output_type": "stream",
     "text": [
      "Original data size: 4636840\n",
      "Data size after removing outliers: 4078811\n"
     ]
    }
   ],
   "source": [
    "call_train_no_outliers = call_train[(call_train['iv'] >= lower_bound) & (call_train['iv'] <= upper_bound)]\n",
    "print(f\"Original data size: {call_train.shape[0]}\")\n",
    "print(f\"Data size after removing outliers: {call_train_no_outliers.shape[0]}\")\n"
   ]
  },
  {
   "cell_type": "code",
   "execution_count": 40,
   "id": "ba98c9ae-ab9f-47ba-b358-16753e54f739",
   "metadata": {},
   "outputs": [],
   "source": [
    "call_train = call_train_no_outliers"
   ]
  },
  {
   "cell_type": "code",
   "execution_count": 41,
   "id": "c53590f8-dd84-4e03-894b-bb3d70889894",
   "metadata": {},
   "outputs": [
    {
     "data": {
      "text/plain": [
       "(4078811, 45)"
      ]
     },
     "execution_count": 41,
     "metadata": {},
     "output_type": "execute_result"
    }
   ],
   "source": [
    "call_train.shape"
   ]
  },
  {
   "cell_type": "code",
   "execution_count": 42,
   "id": "7c73c88a-2944-4820-9d05-a012d1dbdbfc",
   "metadata": {},
   "outputs": [
    {
     "data": {
      "text/plain": [
       "Index(['underlying', 'X0', 'X1', 'X2', 'X3', 'X4', 'X5', 'X6', 'X7', 'X8',\n",
       "       'X9', 'X10', 'X11', 'X12', 'X13', 'X14', 'X15', 'X16', 'X17', 'X18',\n",
       "       'X19', 'X20', 'X21', 'X22', 'X23', 'X24', 'X25', 'X26', 'X27', 'X28',\n",
       "       'X29', 'X30', 'X31', 'X32', 'X33', 'X34', 'X35', 'X36', 'X37', 'X38',\n",
       "       'X39', 'X40', 'X41', 'k', 'iv'],\n",
       "      dtype='object')"
      ]
     },
     "execution_count": 42,
     "metadata": {},
     "output_type": "execute_result"
    }
   ],
   "source": [
    "call_train.columns"
   ]
  },
  {
   "cell_type": "code",
   "execution_count": 46,
   "id": "f48f17ac-25e8-48b5-80d4-d590dd1691dc",
   "metadata": {},
   "outputs": [],
   "source": [
    "import pandas as pd\n",
    "\n",
    "def remove_outliers_iqr_except_iv(df, exclude_col='iv'):\n",
    "    df_cleaned = df.copy()\n",
    "    \n",
    "    numeric_cols = df_cleaned.select_dtypes(include='number').columns\n",
    "    cols_to_check = [col for col in numeric_cols if col != exclude_col]\n",
    "    \n",
    "    # Create a mask for all rows that are NOT outliers\n",
    "    mask = pd.Series([True] * len(df_cleaned), index=df_cleaned.index)\n",
    "    \n",
    "    for col in cols_to_check:\n",
    "        Q1 = df_cleaned[col].quantile(0.25)\n",
    "        Q3 = df_cleaned[col].quantile(0.75)\n",
    "        IQR = Q3 - Q1\n",
    "        lower_bound = Q1 - 1.5 * IQR\n",
    "        upper_bound = Q3 + 1.5 * IQR\n",
    "        \n",
    "        col_mask = (df_cleaned[col] >= lower_bound) & (df_cleaned[col] <= upper_bound)\n",
    "        mask &= col_mask  # combine masks\n",
    "\n",
    "    # Apply the final combined mask only once\n",
    "    return df_cleaned[mask]\n"
   ]
  },
  {
   "cell_type": "code",
   "execution_count": 47,
   "id": "77146d70-0006-4dc1-9d55-773ac7313026",
   "metadata": {},
   "outputs": [
    {
     "name": "stdout",
     "output_type": "stream",
     "text": [
      "Original shape: (4078811, 45)\n",
      "Cleaned shape: (334058, 45)\n"
     ]
    }
   ],
   "source": [
    "call_train_cleaned = remove_outliers_iqr_except_iv(call_train)\n",
    "print(\"Original shape:\", call_train.shape)\n",
    "print(\"Cleaned shape:\", call_train_cleaned.shape)\n"
   ]
  },
  {
   "cell_type": "code",
   "execution_count": 48,
   "id": "c8a760b7-ba48-4855-9e0e-f5368ee54423",
   "metadata": {},
   "outputs": [],
   "source": [
    "call_train_cleaned.to_parquet('call_train1.parquet')"
   ]
  },
  {
   "cell_type": "code",
   "execution_count": null,
   "id": "65f07a72-d8f9-4725-a595-f4546c370ff3",
   "metadata": {},
   "outputs": [],
   "source": []
  }
 ],
 "metadata": {
  "kernelspec": {
   "display_name": "Python 3 (ipykernel)",
   "language": "python",
   "name": "python3"
  },
  "language_info": {
   "codemirror_mode": {
    "name": "ipython",
    "version": 3
   },
   "file_extension": ".py",
   "mimetype": "text/x-python",
   "name": "python",
   "nbconvert_exporter": "python",
   "pygments_lexer": "ipython3",
   "version": "3.12.3"
  }
 },
 "nbformat": 4,
 "nbformat_minor": 5
}
